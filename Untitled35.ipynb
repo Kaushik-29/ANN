{
  "nbformat": 4,
  "nbformat_minor": 0,
  "metadata": {
    "colab": {
      "provenance": [],
      "authorship_tag": "ABX9TyPTWzO//ouYONDIx2YUJjkZ",
      "include_colab_link": true
    },
    "kernelspec": {
      "name": "python3",
      "display_name": "Python 3"
    },
    "language_info": {
      "name": "python"
    }
  },
  "cells": [
    {
      "cell_type": "markdown",
      "metadata": {
        "id": "view-in-github",
        "colab_type": "text"
      },
      "source": [
        "<a href=\"https://colab.research.google.com/github/Kaushik-29/ANN/blob/main/Untitled35.ipynb\" target=\"_parent\"><img src=\"https://colab.research.google.com/assets/colab-badge.svg\" alt=\"Open In Colab\"/></a>"
      ]
    },
    {
      "cell_type": "code",
      "source": [
        "import numpy as np\n",
        "x = np.array([1, 2, 3, 4, 5], dtype=float)\n",
        "y = np.array([3, 4, 2, 5, 6], dtype=float)\n",
        "n = len(x)\n",
        "\n",
        "alpha = 0.01\n",
        "tol = 1e-8\n",
        "param_tol = 1e-9\n",
        "max_iter = 50\n",
        "m, c = 0.0, 0.0\n",
        "\n",
        "def mse(y_true, y_pred):\n",
        "    return np.mean((y_true - y_pred)**2)\n",
        "\n",
        "prev_loss = float('inf')\n",
        "\n",
        "for it in range(1, max_iter + 1):\n",
        "    y_pred = m * x + c\n",
        "    error = y - y_pred\n",
        "\n",
        "    dm = -(2/n) * np.dot(x, error)\n",
        "    dc = -(2/n) * np.sum(error)\n",
        "\n",
        "    m -= alpha * dm\n",
        "    c -= alpha * dc\n",
        "\n",
        "    y_pred = m * x + c\n",
        "    loss = mse(y, y_pred)\n",
        "\n",
        "    if abs(prev_loss - loss) < tol or max(abs(alpha*dm), abs(alpha*dc)) < param_tol:\n",
        "        print(f\"\\nConverged at iteration {it}\")\n",
        "        break\n",
        "\n",
        "    prev_loss = loss\n",
        "else:\n",
        "    print(f\"\\nReached max_iter ({max_iter}) without convergence.\")\n",
        "\n",
        "print(\"\\nFinal parameters:\")\n",
        "print(f\"m = {m:.6f}, c = {c:.6f}, MSE = {loss:.8f}\")\n",
        "print(\"Predicted values:\", y_pred)\n",
        "print(\"Actual values   :\", y)\n"
      ],
      "metadata": {
        "colab": {
          "base_uri": "https://localhost:8080/"
        },
        "id": "Q77GV5kNCrni",
        "outputId": "11b951b7-efe0-46ba-8524-8a55f50b76a4"
      },
      "execution_count": 8,
      "outputs": [
        {
          "output_type": "stream",
          "name": "stdout",
          "text": [
            "\n",
            "Converged at iteration 1868\n",
            "\n",
            "Final parameters:\n",
            "m = 0.700785, c = 1.897166, MSE = 1.02000146\n",
            "Predicted values: [2.59795092 3.29873591 3.99952091 4.7003059  5.40109089]\n",
            "Actual values   : [3. 4. 2. 5. 6.]\n"
          ]
        }
      ]
    },
    {
      "cell_type": "code",
      "source": [],
      "metadata": {
        "id": "SgZ0AWXLDHtJ"
      },
      "execution_count": null,
      "outputs": []
    }
  ]
}