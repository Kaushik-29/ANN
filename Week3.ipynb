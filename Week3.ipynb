{
  "nbformat": 4,
  "nbformat_minor": 0,
  "metadata": {
    "colab": {
      "provenance": [],
      "authorship_tag": "ABX9TyNIc+QsQ6WvHWI5C2t9i8+i",
      "include_colab_link": true
    },
    "kernelspec": {
      "name": "python3",
      "display_name": "Python 3"
    },
    "language_info": {
      "name": "python"
    }
  },
  "cells": [
    {
      "cell_type": "markdown",
      "metadata": {
        "id": "view-in-github",
        "colab_type": "text"
      },
      "source": [
        "<a href=\"https://colab.research.google.com/github/Kaushik-29/ANN/blob/main/Week3.ipynb\" target=\"_parent\"><img src=\"https://colab.research.google.com/assets/colab-badge.svg\" alt=\"Open In Colab\"/></a>"
      ]
    },
    {
      "cell_type": "code",
      "source": [
        "import numpy as np\n",
        "\n",
        "shape_val = float(input(\"Enter Shape value (1 or -1): \"))\n",
        "structure_val = float(input(\"Enter Structure value (1 or -1): \"))\n",
        "weight_val = float(input(\"Enter Weight value: \"))\n",
        "\n",
        "item_features = np.array([[shape_val],\n",
        "                           [structure_val],\n",
        "                           [weight_val]])\n",
        "\n",
        "\n",
        "weights = np.array([[0, 1, 0]])\n",
        "bias = 0\n",
        "\n",
        "\n",
        "output = np.dot(weights, item_features) + bias\n",
        "\n",
        "\n",
        "if output == -1:\n",
        "    fruit = \"Orange\"\n",
        "else:\n",
        "    fruit = \"Apple\"\n",
        "\n",
        "\n",
        "print(\"\\n--- CALCULATION DETAILS ---\")\n",
        "print(\"Input Features (Shape, Structure, Weight):\\n\", item_features)\n",
        "print(\"Weights (1×3):\", weights)\n",
        "print(\"Bias:\", bias)\n",
        "print(\"Weighted Sum + Bias =\", output[0][0])\n",
        "print(\"Prediction:\", fruit)\n"
      ],
      "metadata": {
        "colab": {
          "base_uri": "https://localhost:8080/"
        },
        "id": "LqXYD6CGUpvR",
        "outputId": "a5a7dd6b-ba24-48be-e6ea-867b1dd5b225"
      },
      "execution_count": 16,
      "outputs": [
        {
          "output_type": "stream",
          "name": "stdout",
          "text": [
            "Enter Shape value (1 or -1): 1\n",
            "Enter Structure value (1 or -1): -1\n",
            "Enter Weight value: -1\n",
            "\n",
            "--- CALCULATION DETAILS ---\n",
            "Input Features (Shape, Structure, Weight):\n",
            " [[ 1.]\n",
            " [-1.]\n",
            " [-1.]]\n",
            "Weights (1×3): [[0 1 0]]\n",
            "Bias: 0\n",
            "Weighted Sum + Bias = -1.0\n",
            "Prediction: Orange\n"
          ]
        }
      ]
    }
  ]
}