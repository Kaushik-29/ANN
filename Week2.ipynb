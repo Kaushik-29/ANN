{
  "nbformat": 4,
  "nbformat_minor": 0,
  "metadata": {
    "colab": {
      "provenance": [],
      "authorship_tag": "ABX9TyNOmHVEInREe62ZF2Y2t9yO",
      "include_colab_link": true
    },
    "kernelspec": {
      "name": "python3",
      "display_name": "Python 3"
    },
    "language_info": {
      "name": "python"
    }
  },
  "cells": [
    {
      "cell_type": "markdown",
      "metadata": {
        "id": "view-in-github",
        "colab_type": "text"
      },
      "source": [
        "<a href=\"https://colab.research.google.com/github/Kaushik-29/ANN/blob/main/Week2.ipynb\" target=\"_parent\"><img src=\"https://colab.research.google.com/assets/colab-badge.svg\" alt=\"Open In Colab\"/></a>"
      ]
    },
    {
      "cell_type": "code",
      "source": [
        "import math\n",
        "import numpy as np\n",
        "\n",
        "# --- Activation Functions ---\n",
        "\n",
        "def hard_limit(x):\n",
        "    return 1 if x >= 0 else 0\n",
        "\n",
        "def symmetric_hard_limit(x):\n",
        "    return 1 if x >= 0 else -1\n",
        "\n",
        "def linear_fn(x):\n",
        "    return x\n",
        "\n",
        "def sigmoid_fn(x):\n",
        "    return 1 / (1 + math.exp(-x))\n",
        "\n",
        "def saturating_linear_fn(x):\n",
        "    if x < 0:\n",
        "        return 0\n",
        "    elif x <= 1:\n",
        "        return x\n",
        "    return 1\n",
        "\n",
        "def symmetric_saturating_linear_fn(x):\n",
        "    if x < -1:\n",
        "        return -1\n",
        "    elif x <= 1:\n",
        "        return x\n",
        "    return 1\n",
        "\n",
        "def tanh_sigmoid_fn(x):\n",
        "    return math.tanh(x)\n",
        "\n",
        "def positive_linear_fn(x):\n",
        "    return max(0, x)\n",
        "\n",
        "def competitive_fn(values):\n",
        "    max_val = max(values)\n",
        "    return [1 if v == max_val else 0 for v in values]\n",
        "\n",
        "\n",
        "# --- Example Calls ---\n",
        "print(\"Positive Linear:\", positive_linear_fn(1.2))\n",
        "print(\"Hard Limit:\", hard_limit(1.2))\n",
        "print(\"Symmetric Hard Limit:\", symmetric_hard_limit(1.2))\n",
        "print(\"Sigmoid:\", sigmoid_fn(1.2))\n",
        "print(\"Tanh Sigmoid:\", tanh_sigmoid_fn(1.2))\n"
      ],
      "metadata": {
        "colab": {
          "base_uri": "https://localhost:8080/"
        },
        "id": "LqXYD6CGUpvR",
        "outputId": "e844c42e-61a8-4d15-eb7f-1f544982a6d0"
      },
      "execution_count": 19,
      "outputs": [
        {
          "output_type": "stream",
          "name": "stdout",
          "text": [
            "Positive Linear: 1.2\n",
            "Hard Limit: 1\n",
            "Symmetric Hard Limit: 1\n",
            "Sigmoid: 0.7685247834990175\n",
            "Tanh Sigmoid: 0.8336546070121552\n"
          ]
        }
      ]
    }
  ]
}