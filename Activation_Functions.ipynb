{
  "nbformat": 4,
  "nbformat_minor": 0,
  "metadata": {
    "colab": {
      "provenance": [],
      "authorship_tag": "ABX9TyN4IZiBscVMsKHjev8Gotws",
      "include_colab_link": true
    },
    "kernelspec": {
      "name": "python3",
      "display_name": "Python 3"
    },
    "language_info": {
      "name": "python"
    }
  },
  "cells": [
    {
      "cell_type": "markdown",
      "metadata": {
        "id": "view-in-github",
        "colab_type": "text"
      },
      "source": [
        "<a href=\"https://colab.research.google.com/github/Kaushik-29/ANN/blob/main/Activation_Functions.ipynb\" target=\"_parent\"><img src=\"https://colab.research.google.com/assets/colab-badge.svg\" alt=\"Open In Colab\"/></a>"
      ]
    },
    {
      "cell_type": "code",
      "execution_count": 8,
      "metadata": {
        "colab": {
          "base_uri": "https://localhost:8080/"
        },
        "id": "ynHHejiNVJIV",
        "outputId": "06539c97-8a8c-47a6-94fd-852cc6b64fea"
      },
      "outputs": [
        {
          "output_type": "stream",
          "name": "stdout",
          "text": [
            "Input X: [-5. -4. -3. -2. -1.  0.  1.  2.  3.  4.  5.]\n",
            "\n",
            "Sigmoid: [0.00669285 0.01798621 0.04742587 0.11920292 0.26894142 0.5\n",
            " 0.73105858 0.88079708 0.95257413 0.98201379 0.99330715]\n",
            "\n",
            "Tanh: [-0.9999092  -0.9993293  -0.99505475 -0.96402758 -0.76159416  0.\n",
            "  0.76159416  0.96402758  0.99505475  0.9993293   0.9999092 ]\n",
            "\n",
            "ReLU: [0. 0. 0. 0. 0. 0. 1. 2. 3. 4. 5.]\n",
            "\n",
            "Leaky ReLU: [-0.05 -0.04 -0.03 -0.02 -0.01  0.    1.    2.    3.    4.    5.  ]\n"
          ]
        }
      ],
      "source": [
        "import numpy as np\n",
        "\n",
        "# Sample input data\n",
        "x = np.linspace(-5, 5, 11)  # 11 points from -5 to 5\n",
        "\n",
        "# Activation functions\n",
        "def sigmoid(x):\n",
        "    return 1 / (1 + np.exp(-x))\n",
        "\n",
        "def tanh(x):\n",
        "    return np.tanh(x)\n",
        "\n",
        "def relu(x):\n",
        "    return np.maximum(0, x)\n",
        "\n",
        "def leaky_relu(x, alpha=0.01):\n",
        "    return np.where(x > 0, x, alpha * x)\n",
        "\n",
        "# Apply activations\n",
        "sigmoid_values = sigmoid(x)\n",
        "tanh_values = tanh(x)\n",
        "relu_values = relu(x)\n",
        "leaky_relu_values = leaky_relu(x)\n",
        "\n",
        "# Print results\n",
        "print(\"Input X:\", x)\n",
        "print(\"\\nSigmoid:\", sigmoid_values)\n",
        "print(\"\\nTanh:\", tanh_values)\n",
        "print(\"\\nReLU:\", relu_values)\n",
        "print(\"\\nLeaky ReLU:\", leaky_relu_values)\n"
      ]
    }
  ]
}