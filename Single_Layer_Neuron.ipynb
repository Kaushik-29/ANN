{
  "nbformat": 4,
  "nbformat_minor": 0,
  "metadata": {
    "colab": {
      "provenance": [],
      "authorship_tag": "ABX9TyN4p6ksCpbUVguYoAYkSLLm",
      "include_colab_link": true
    },
    "kernelspec": {
      "name": "python3",
      "display_name": "Python 3"
    },
    "language_info": {
      "name": "python"
    }
  },
  "cells": [
    {
      "cell_type": "markdown",
      "metadata": {
        "id": "view-in-github",
        "colab_type": "text"
      },
      "source": [
        "<a href=\"https://colab.research.google.com/github/Kaushik-29/ANN/blob/main/Single_Layer_Neuron.ipynb\" target=\"_parent\"><img src=\"https://colab.research.google.com/assets/colab-badge.svg\" alt=\"Open In Colab\"/></a>"
      ]
    },
    {
      "cell_type": "markdown",
      "source": [
        "Import the required packages"
      ],
      "metadata": {
        "id": "fVk8QHIEMPgJ"
      }
    },
    {
      "cell_type": "code",
      "execution_count": null,
      "metadata": {
        "id": "y0d7FcAZLrcV"
      },
      "outputs": [],
      "source": [
        "import numpy as np\n",
        "from sklearn.datasets import load_iris\n",
        "from sklearn.preprocessing import StandardScaler\n",
        "from sklearn.model_selection import train_test_split"
      ]
    },
    {
      "cell_type": "markdown",
      "source": [
        "create a class named perceptron"
      ],
      "metadata": {
        "id": "wTnu2l0vMWpc"
      }
    },
    {
      "cell_type": "code",
      "source": [
        "class Perceptron:\n",
        "    def __init__(self, input_dim, lr=0.1, epochs=10):\n",
        "        self.w = np.zeros(input_dim)\n",
        "        self.b = 0\n",
        "        self.lr = lr\n",
        "        self.epochs = epochs\n",
        "\n",
        "    def activation(self, x):\n",
        "        return np.where(x >= 0, 1, 0)\n",
        "\n",
        "    def fit(self, X, y):\n",
        "        for _ in range(self.epochs):\n",
        "            for xi, target in zip(X, y):\n",
        "                y_pred = self.activation(np.dot(xi, self.w) + self.b)\n",
        "                update = self.lr * (target - y_pred)\n",
        "                self.w += update * xi\n",
        "                self.b += update\n",
        "\n",
        "    def predict(self, X):\n",
        "        return self.activation(np.dot(X, self.w) + self.b)"
      ],
      "metadata": {
        "id": "kwAfHohWOQBv"
      },
      "execution_count": null,
      "outputs": []
    },
    {
      "cell_type": "markdown",
      "source": [
        "Loading the Datasets"
      ],
      "metadata": {
        "id": "Zz1gVS3lOYPe"
      }
    },
    {
      "cell_type": "code",
      "source": [
        "iris = load_iris()\n",
        "X = iris.data[:100, :2]\n",
        "y = iris.target[:100]"
      ],
      "metadata": {
        "id": "Ro-xSOb3OX2Y"
      },
      "execution_count": null,
      "outputs": []
    },
    {
      "cell_type": "markdown",
      "source": [
        "preprocess"
      ],
      "metadata": {
        "id": "a4xu3u-eOe1k"
      }
    },
    {
      "cell_type": "code",
      "source": [
        "scaler = StandardScaler()\n",
        "X = scaler.fit_transform(X)\n",
        "X_train, X_test, y_train, y_test = train_test_split(X, y, test_size=0.2, random_state=42)"
      ],
      "metadata": {
        "id": "0jeGVgnWOi5k"
      },
      "execution_count": null,
      "outputs": []
    },
    {
      "cell_type": "markdown",
      "source": [
        "training the model\n",
        "\n"
      ],
      "metadata": {
        "id": "JwRUkAF5OliO"
      }
    },
    {
      "cell_type": "code",
      "source": [
        "perc = Perceptron(input_dim=2, lr=0.1, epochs=20)\n",
        "perc.fit(X_train, y_train)"
      ],
      "metadata": {
        "id": "1zc9h7vUOnYc"
      },
      "execution_count": null,
      "outputs": []
    },
    {
      "cell_type": "markdown",
      "source": [
        "testing the model"
      ],
      "metadata": {
        "id": "1Sc0bk7GOrgv"
      }
    },
    {
      "cell_type": "code",
      "source": [
        "y_pred = perc.predict(X_test)\n",
        "accuracy = np.mean(y_pred == y_test)\n",
        "print(f\"Single-Layer Perceptron Accuracy: {accuracy*100:.2f}%\")"
      ],
      "metadata": {
        "colab": {
          "base_uri": "https://localhost:8080/"
        },
        "id": "TEgzodmnOuKI",
        "outputId": "64a7b369-fcae-4b58-e258-21c73f021c50"
      },
      "execution_count": null,
      "outputs": [
        {
          "output_type": "stream",
          "name": "stdout",
          "text": [
            "Single-Layer Perceptron Accuracy: 100.00%\n"
          ]
        }
      ]
    }
  ]
}